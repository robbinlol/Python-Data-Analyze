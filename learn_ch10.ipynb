{
 "cells": [
  {
   "cell_type": "code",
   "execution_count": 195,
   "metadata": {},
   "outputs": [],
   "source": [
    "import numpy as np\n",
    "import pandas as pd\n",
    "from pandas import Series, DataFrame\n",
    "from datetime import datetime"
   ]
  },
  {
   "cell_type": "code",
   "execution_count": 15,
   "metadata": {},
   "outputs": [
    {
     "data": {
      "text/plain": [
       "datetime.datetime(2010, 12, 14, 0, 0)"
      ]
     },
     "execution_count": 15,
     "metadata": {},
     "output_type": "execute_result"
    }
   ],
   "source": [
    "now = datetime.now()\n",
    "now\n",
    "now.year, now.month, now.day\n",
    "delta = datetime(2011, 1, 7) - datetime(2008, 6, 24, 8, 15)\n",
    "delta\n",
    "delta.days\n",
    "delta.seconds\n",
    "from datetime import timedelta\n",
    "start = datetime(2011, 1, 7)\n",
    "(start + timedelta(12))\n",
    "start - timedelta(12) * 2"
   ]
  },
  {
   "cell_type": "code",
   "execution_count": 45,
   "metadata": {},
   "outputs": [
    {
     "data": {
      "text/plain": [
       "array([False, False,  True])"
      ]
     },
     "execution_count": 45,
     "metadata": {},
     "output_type": "execute_result"
    }
   ],
   "source": [
    "stmap = datetime(2011, 1, 3)\n",
    "str(stmap)\n",
    "stmap.strftime('%Y-%m-%d')\n",
    "value = '2011-01-03'\n",
    "datetime.strptime(value, '%Y-%m-%d')\n",
    "datastrs = ['7/6/2011', '8/6/2011']\n",
    "[datetime.strptime(x, '%m/%d/%Y') for x in datastrs]\n",
    "from dateutil.parser import parse\n",
    "parse('2011-01-03')\n",
    "parse('6/12/2011', dayfirst = True)\n",
    "datastrs\n",
    "pd.to_datetime(datastrs)\n",
    "idx = pd.to_datetime(datastrs + [None])\n",
    "idx[2]\n",
    "pd.isnull(idx)#   NAT: not a time"
   ]
  },
  {
   "cell_type": "code",
   "execution_count": 55,
   "metadata": {},
   "outputs": [
    {
     "data": {
      "text/plain": [
       "Timestamp('2011-01-02 00:00:00')"
      ]
     },
     "execution_count": 55,
     "metadata": {},
     "output_type": "execute_result"
    }
   ],
   "source": [
    "dates = [datetime(2011, 1, 2), datetime(2011, 1, 5), datetime(2011, 1, 7),\n",
    "        datetime(2011, 1, 8), datetime(2011, 1, 10), datetime(2011, 1, 12)]\n",
    "ts = Series(np.random.randn(6), index = dates)\n",
    "ts\n",
    "type(ts)\n",
    "ts.index\n",
    "ts + ts[::2]\n",
    "ts.index.dtype\n",
    "stamp = ts.index[0]\n",
    "stamp"
   ]
  },
  {
   "cell_type": "code",
   "execution_count": 70,
   "metadata": {},
   "outputs": [
    {
     "data": {
      "text/html": [
       "<div>\n",
       "<style scoped>\n",
       "    .dataframe tbody tr th:only-of-type {\n",
       "        vertical-align: middle;\n",
       "    }\n",
       "\n",
       "    .dataframe tbody tr th {\n",
       "        vertical-align: top;\n",
       "    }\n",
       "\n",
       "    .dataframe thead th {\n",
       "        text-align: right;\n",
       "    }\n",
       "</style>\n",
       "<table border=\"1\" class=\"dataframe\">\n",
       "  <thead>\n",
       "    <tr style=\"text-align: right;\">\n",
       "      <th></th>\n",
       "      <th>Colorado</th>\n",
       "      <th>Texas</th>\n",
       "      <th>New York</th>\n",
       "      <th>Ohio</th>\n",
       "    </tr>\n",
       "  </thead>\n",
       "  <tbody>\n",
       "    <tr>\n",
       "      <th>2001-05-02</th>\n",
       "      <td>0.671220</td>\n",
       "      <td>0.465921</td>\n",
       "      <td>1.101165</td>\n",
       "      <td>1.607071</td>\n",
       "    </tr>\n",
       "    <tr>\n",
       "      <th>2001-05-09</th>\n",
       "      <td>0.446333</td>\n",
       "      <td>-0.666087</td>\n",
       "      <td>0.230365</td>\n",
       "      <td>-0.560538</td>\n",
       "    </tr>\n",
       "    <tr>\n",
       "      <th>2001-05-16</th>\n",
       "      <td>-0.206043</td>\n",
       "      <td>-0.629436</td>\n",
       "      <td>2.017992</td>\n",
       "      <td>1.299331</td>\n",
       "    </tr>\n",
       "    <tr>\n",
       "      <th>2001-05-23</th>\n",
       "      <td>-1.032469</td>\n",
       "      <td>-0.705715</td>\n",
       "      <td>0.469092</td>\n",
       "      <td>0.665066</td>\n",
       "    </tr>\n",
       "    <tr>\n",
       "      <th>2001-05-30</th>\n",
       "      <td>0.087775</td>\n",
       "      <td>0.545092</td>\n",
       "      <td>0.240156</td>\n",
       "      <td>0.286063</td>\n",
       "    </tr>\n",
       "  </tbody>\n",
       "</table>\n",
       "</div>"
      ],
      "text/plain": [
       "            Colorado     Texas  New York      Ohio\n",
       "2001-05-02  0.671220  0.465921  1.101165  1.607071\n",
       "2001-05-09  0.446333 -0.666087  0.230365 -0.560538\n",
       "2001-05-16 -0.206043 -0.629436  2.017992  1.299331\n",
       "2001-05-23 -1.032469 -0.705715  0.469092  0.665066\n",
       "2001-05-30  0.087775  0.545092  0.240156  0.286063"
      ]
     },
     "execution_count": 70,
     "metadata": {},
     "output_type": "execute_result"
    }
   ],
   "source": [
    "stmap = ts.index[2]\n",
    "ts[stmap]\n",
    "long_ts = Series(np.random.randn(1000), index = pd.date_range('1/1/2000', periods = 1000))\n",
    "long_ts['2001']\n",
    "long_ts['2001-05']\n",
    "long_ts\n",
    "ts[datetime(2011, 1, 7): ]\n",
    "dates = pd.date_range('1/1/2000', periods = 100, freq = 'W-WED')\n",
    "long_df = DataFrame(np.random.randn(100, 4), index = dates,\n",
    "                   columns = ['Colorado', 'Texas', 'New York', 'Ohio'])\n",
    "long_df.loc['5-2001']"
   ]
  },
  {
   "cell_type": "code",
   "execution_count": 83,
   "metadata": {},
   "outputs": [
    {
     "data": {
      "text/plain": [
       "2000-01-01    0\n",
       "2000-01-02    2\n",
       "2000-01-03    4\n",
       "dtype: int64"
      ]
     },
     "execution_count": 83,
     "metadata": {},
     "output_type": "execute_result"
    }
   ],
   "source": [
    "dates = pd.DatetimeIndex(['1/1/2000', '1/2/2000', '1/2/2000', '1/2/2000', '1/3/2000'])\n",
    "dup_ts = Series(np.arange(5), index = dates)\n",
    "dup_ts\n",
    "dup_ts.index.is_unique\n",
    "dup_ts['1/3/2000']\n",
    "dup_ts['1/2/2000']\n",
    "grouped = dup_ts.groupby(level = 0)\n",
    "grouped.count()\n",
    "grouped.mean()"
   ]
  },
  {
   "cell_type": "code",
   "execution_count": 97,
   "metadata": {},
   "outputs": [
    {
     "data": {
      "text/plain": [
       "DatetimeIndex(['2012-05-02', '2012-05-03', '2012-05-04', '2012-05-05',\n",
       "               '2012-05-06'],\n",
       "              dtype='datetime64[ns]', freq='D')"
      ]
     },
     "execution_count": 97,
     "metadata": {},
     "output_type": "execute_result"
    }
   ],
   "source": [
    "ts\n",
    "ts.resample('D')\n",
    "#   date_range: 默认产生频率为一天的Datetime\n",
    "index = pd.date_range('4/1/2012', '6/1/2012')\n",
    "index\n",
    "pd.date_range(start = '4/1/2012', periods = 20)\n",
    "pd.date_range(end = '6/1/2012', periods = 20)\n",
    "pd.date_range('1/1/2000', '12/1/2000', freq = 'BM')\n",
    "pd.date_range('5/2/2012 12:56:31', periods = 5)\n",
    "pd.date_range('5/2/2012 12:56:31', periods = 5, normalize = True)"
   ]
  },
  {
   "cell_type": "code",
   "execution_count": 115,
   "metadata": {},
   "outputs": [
    {
     "data": {
      "text/plain": [
       "DatetimeIndex(['2012-01-20', '2012-02-17', '2012-03-16', '2012-04-20',\n",
       "               '2012-05-18', '2012-06-15', '2012-07-20', '2012-08-17'],\n",
       "              dtype='datetime64[ns]', freq='WOM-3FRI')"
      ]
     },
     "execution_count": 115,
     "metadata": {},
     "output_type": "execute_result"
    }
   ],
   "source": [
    "from pandas.tseries.offsets import Hour, Minute\n",
    "hour = Hour()\n",
    "hour\n",
    "four_hour = Hour(4)\n",
    "four_hour\n",
    "pd.date_range('1/1/2000', '1/3/2000 23:59', freq = '4h')\n",
    "Hour(2) + Minute(30)\n",
    "pd.date_range('1/1/2000', periods = 10, freq = '1h30min')\n",
    "#pd.date_range('1/1/2000', '12/1/2000', freq = 'BM')\n",
    "rng = pd.date_range('1/1/2012', '9/1/2012', freq = 'WOM-3FRI')\n",
    "rng"
   ]
  },
  {
   "cell_type": "code",
   "execution_count": 138,
   "metadata": {},
   "outputs": [
    {
     "data": {
      "text/plain": [
       "2000-02-03    0\n",
       "2000-03-03    1\n",
       "2000-04-03    2\n",
       "2000-05-03    3\n",
       "dtype: int64"
      ]
     },
     "execution_count": 138,
     "metadata": {},
     "output_type": "execute_result"
    }
   ],
   "source": [
    "ts = Series(np.arange(4), index = pd.date_range('1/1/2000', periods = 4, freq = 'M'))\n",
    "ts\n",
    "ts.shift(0)#   前移或后移数据\n",
    "ts.shift(2, freq = 'M')\n",
    "ts.shift(1, freq = '3D')"
   ]
  },
  {
   "cell_type": "code",
   "execution_count": 155,
   "metadata": {},
   "outputs": [
    {
     "data": {
      "text/plain": [
       "2000-01-31    5\n",
       "2000-02-29    7\n",
       "2000-03-31    8\n",
       "Freq: M, dtype: int64"
      ]
     },
     "execution_count": 155,
     "metadata": {},
     "output_type": "execute_result"
    }
   ],
   "source": [
    "from pandas.tseries.offsets import Day, MonthEnd\n",
    "now = datetime(2011, 11, 17)\n",
    "now + 3 * Day()\n",
    "now + MonthEnd()\n",
    "now + MonthEnd(2)\n",
    "offset = MonthEnd()\n",
    "offset.rollforward(now)\n",
    "offset.rollback(now)\n",
    "ts = Series(np.random.randn(20), index = pd.date_range('1/15/2000', \n",
    "                                                      periods = 20, freq = '4d'))\n",
    "ts.groupby(offset.rollforward).count()\n",
    "ts.resample('M').count()"
   ]
  },
  {
   "cell_type": "code",
   "execution_count": 168,
   "metadata": {},
   "outputs": [
    {
     "data": {
      "text/plain": [
       "PeriodIndex(['2001Q3', '2002Q2', '2003Q1'], dtype='period[Q-DEC]', freq='Q-DEC')"
      ]
     },
     "execution_count": 168,
     "metadata": {},
     "output_type": "execute_result"
    }
   ],
   "source": [
    "p = pd.Period(2007, freq = 'A-DEC')\n",
    "p\n",
    "p + 5\n",
    "p - 2\n",
    "pd.Period('2015', freq = 'A-DEC') - p\n",
    "rng = pd.period_range('1/1/2000', '6/30/2000', freq = 'M')\n",
    "rng#   任何pandas数据结构中被用作轴索引\n",
    "Series(np.random.randn(6), index = rng)\n",
    "values = ['2001Q3', '2002Q2', '2003Q1']\n",
    "index = pd.PeriodIndex(values, freq = 'Q-DEC')\n",
    "index"
   ]
  },
  {
   "cell_type": "code",
   "execution_count": 194,
   "metadata": {},
   "outputs": [
    {
     "data": {
      "text/plain": [
       "2006-12-31   -1.233523\n",
       "2007-12-31   -0.994448\n",
       "2008-12-31   -0.897854\n",
       "2009-12-31    1.638099\n",
       "Freq: D, dtype: float64"
      ]
     },
     "execution_count": 194,
     "metadata": {},
     "output_type": "execute_result"
    }
   ],
   "source": [
    "p = pd.Period('2007', freq = 'A-DEC')\n",
    "p.asfreq('M', how = 'start')\n",
    "p.asfreq('M', how = 'end')\n",
    "p = pd.Period('2007', freq = 'A-FEB')\n",
    "p.asfreq('M', 'start')\n",
    "p.asfreq('M', 'end')\n",
    "p = pd.Period('2007-08', 'M')\n",
    "p.asfreq('A-JUN')\n",
    "rng = pd.period_range('2006', '2009', freq = 'A-DEC')\n",
    "ts = Series(np.random.randn(len(rng)), index = rng)\n",
    "ts\n",
    "ts.asfreq('M', how = 'start')\n",
    "ts.asfreq('B', how = 'end')\n",
    "ts.asfreq('D', how = 'end')"
   ]
  },
  {
   "cell_type": "code",
   "execution_count": 205,
   "metadata": {},
   "outputs": [
    {
     "data": {
      "text/plain": [
       "Period('2012-01-30', 'B')"
      ]
     },
     "execution_count": 205,
     "metadata": {},
     "output_type": "execute_result"
    }
   ],
   "source": [
    "p = pd.Period('2012Q4', freq = 'Q-JAN')\n",
    "p.asfreq('D', 'start')\n",
    "p.asfreq('D', 'end')\n",
    "p4pm = (p.asfreq('B', 'e') - 1).asfreq('T', 's') + 16 * 60\n",
    "p4pm\n",
    "p4pm.to_timestamp()\n",
    "(p.asfreq('B', 'e') - 1)"
   ]
  },
  {
   "cell_type": "code",
   "execution_count": 215,
   "metadata": {},
   "outputs": [
    {
     "data": {
      "text/plain": [
       "2010-10-28 16:00:00    0\n",
       "2011-01-28 16:00:00    1\n",
       "2011-04-28 16:00:00    2\n",
       "2011-07-28 16:00:00    3\n",
       "2011-10-28 16:00:00    4\n",
       "2012-01-30 16:00:00    5\n",
       "dtype: int64"
      ]
     },
     "execution_count": 215,
     "metadata": {},
     "output_type": "execute_result"
    }
   ],
   "source": [
    "rng = pd.period_range('2011Q3', '2012Q4', freq = 'Q-JAN')\n",
    "ts = Series(np.arange(len(rng)), index = rng)\n",
    "ts\n",
    "new_rng = (rng.asfreq('B', 'e') - 1).asfreq('T', 's') + 16 * 60\n",
    "ts.index = new_rng.to_timestamp()\n",
    "ts"
   ]
  },
  {
   "cell_type": "code",
   "execution_count": 231,
   "metadata": {},
   "outputs": [
    {
     "data": {
      "text/plain": [
       "2000-01-31   -0.370796\n",
       "2000-02-29   -0.823929\n",
       "2000-03-31   -0.857267\n",
       "Freq: M, dtype: float64"
      ]
     },
     "execution_count": 231,
     "metadata": {},
     "output_type": "execute_result"
    }
   ],
   "source": [
    "rng = pd.date_range('1/1/2000', periods = 3, freq = 'M')\n",
    "ts = Series(np.random.randn(3), index = rng)\n",
    "ts\n",
    "pts = ts.to_period()\n",
    "pts\n",
    "rng = pd.date_range('1/29/2000', periods = 6, freq = 'D')\n",
    "ts2 = Series(np.random.randn(6), index = rng)\n",
    "ts2.to_period()\n",
    "pts = ts.to_period()\n",
    "pts\n",
    "pts.to_timestamp(how = 'end')"
   ]
  },
  {
   "cell_type": "code",
   "execution_count": 238,
   "metadata": {},
   "outputs": [
    {
     "data": {
      "text/plain": [
       "2000-01   -0.095281\n",
       "2000-02   -0.031521\n",
       "2000-03    0.127468\n",
       "2000-04   -0.087746\n",
       "Freq: M, dtype: float64"
      ]
     },
     "execution_count": 238,
     "metadata": {},
     "output_type": "execute_result"
    }
   ],
   "source": [
    "#   重采样，由一个频率到另一个频率\n",
    "rng = pd.date_range('1/1/2000', periods = 100, freq = 'D')\n",
    "ts = Series(np.random.randn(len(rng)), index = rng)\n",
    "ts.resample('M').mean()\n",
    "ts.resample('M', kind = 'period').mean()"
   ]
  },
  {
   "cell_type": "code",
   "execution_count": 246,
   "metadata": {},
   "outputs": [
    {
     "data": {
      "text/plain": [
       "1999-12-31 23:59:59    10\n",
       "2000-01-01 00:04:59    35\n",
       "2000-01-01 00:09:59    21\n",
       "Freq: 5T, dtype: int64"
      ]
     },
     "execution_count": 246,
     "metadata": {},
     "output_type": "execute_result"
    }
   ],
   "source": [
    "rng = pd.date_range('1/1/2000', periods = 12, freq = 'T')\n",
    "ts = Series(np.arange(12), index = rng)\n",
    "ts\n",
    "ts.resample('5min').sum()\n",
    "ts.resample('5min', closed = 'left', label = 'left').sum()\n",
    "ts.resample('5min', loffset = '-1s').sum()"
   ]
  },
  {
   "cell_type": "code",
   "execution_count": 258,
   "metadata": {},
   "outputs": [
    {
     "data": {
      "text/plain": [
       "DatetimeIndexResampler [freq=<Day>, axis=0, closed=left, label=left, convention=start, base=0]"
      ]
     },
     "execution_count": 258,
     "metadata": {},
     "output_type": "execute_result"
    }
   ],
   "source": [
    "frame = DataFrame(np.random.randn(2, 4), index = pd.date_range('1/1/2000', periods = 2, freq = 'W-WED'),\n",
    "                 columns = ['Colorado', 'Texas', 'New York', 'Ohio'])\n",
    "frame[:5]\n",
    "df_daily = frame.resample('D')\n",
    "df_daily\n",
    "frame.resample('D').ffill()\n",
    "frame.resample('D', limit = 2).ffill()\n",
    "frame.resample('D')"
   ]
  },
  {
   "cell_type": "code",
   "execution_count": 263,
   "metadata": {},
   "outputs": [
    {
     "data": {
      "text/html": [
       "<div>\n",
       "<style scoped>\n",
       "    .dataframe tbody tr th:only-of-type {\n",
       "        vertical-align: middle;\n",
       "    }\n",
       "\n",
       "    .dataframe tbody tr th {\n",
       "        vertical-align: top;\n",
       "    }\n",
       "\n",
       "    .dataframe thead th {\n",
       "        text-align: right;\n",
       "    }\n",
       "</style>\n",
       "<table border=\"1\" class=\"dataframe\">\n",
       "  <thead>\n",
       "    <tr style=\"text-align: right;\">\n",
       "      <th></th>\n",
       "      <th>Colorado</th>\n",
       "      <th>Texas</th>\n",
       "      <th>New York</th>\n",
       "      <th>Ohio</th>\n",
       "    </tr>\n",
       "  </thead>\n",
       "  <tbody>\n",
       "    <tr>\n",
       "      <th>2000Q1</th>\n",
       "      <td>0.155826</td>\n",
       "      <td>0.331194</td>\n",
       "      <td>-0.159113</td>\n",
       "      <td>-0.307987</td>\n",
       "    </tr>\n",
       "    <tr>\n",
       "      <th>2000Q2</th>\n",
       "      <td>0.155826</td>\n",
       "      <td>0.331194</td>\n",
       "      <td>-0.159113</td>\n",
       "      <td>-0.307987</td>\n",
       "    </tr>\n",
       "    <tr>\n",
       "      <th>2000Q3</th>\n",
       "      <td>0.155826</td>\n",
       "      <td>0.331194</td>\n",
       "      <td>-0.159113</td>\n",
       "      <td>-0.307987</td>\n",
       "    </tr>\n",
       "    <tr>\n",
       "      <th>2000Q4</th>\n",
       "      <td>0.155826</td>\n",
       "      <td>0.331194</td>\n",
       "      <td>-0.159113</td>\n",
       "      <td>-0.307987</td>\n",
       "    </tr>\n",
       "    <tr>\n",
       "      <th>2001Q1</th>\n",
       "      <td>0.297154</td>\n",
       "      <td>0.820413</td>\n",
       "      <td>-0.168817</td>\n",
       "      <td>0.131584</td>\n",
       "    </tr>\n",
       "    <tr>\n",
       "      <th>2001Q2</th>\n",
       "      <td>0.297154</td>\n",
       "      <td>0.820413</td>\n",
       "      <td>-0.168817</td>\n",
       "      <td>0.131584</td>\n",
       "    </tr>\n",
       "    <tr>\n",
       "      <th>2001Q3</th>\n",
       "      <td>0.297154</td>\n",
       "      <td>0.820413</td>\n",
       "      <td>-0.168817</td>\n",
       "      <td>0.131584</td>\n",
       "    </tr>\n",
       "    <tr>\n",
       "      <th>2001Q4</th>\n",
       "      <td>0.297154</td>\n",
       "      <td>0.820413</td>\n",
       "      <td>-0.168817</td>\n",
       "      <td>0.131584</td>\n",
       "    </tr>\n",
       "  </tbody>\n",
       "</table>\n",
       "</div>"
      ],
      "text/plain": [
       "        Colorado     Texas  New York      Ohio\n",
       "2000Q1  0.155826  0.331194 -0.159113 -0.307987\n",
       "2000Q2  0.155826  0.331194 -0.159113 -0.307987\n",
       "2000Q3  0.155826  0.331194 -0.159113 -0.307987\n",
       "2000Q4  0.155826  0.331194 -0.159113 -0.307987\n",
       "2001Q1  0.297154  0.820413 -0.168817  0.131584\n",
       "2001Q2  0.297154  0.820413 -0.168817  0.131584\n",
       "2001Q3  0.297154  0.820413 -0.168817  0.131584\n",
       "2001Q4  0.297154  0.820413 -0.168817  0.131584"
      ]
     },
     "execution_count": 263,
     "metadata": {},
     "output_type": "execute_result"
    }
   ],
   "source": [
    "frame = DataFrame(np.random.randn(24, 4), index = pd.period_range('1-2000', '12-2001', freq = 'M'),\n",
    "                 columns = ['Colorado', 'Texas', 'New York', 'Ohio'])\n",
    "annual_frame = frame.resample('A-DEC').mean()\n",
    "annual_frame\n",
    "annual_frame.resample('Q-DEC').ffill()\n",
    "# Q-MAR, A-MAR, A-JUN, A-SEP, A-DEC"
   ]
  }
 ],
 "metadata": {
  "kernelspec": {
   "display_name": "Python 3",
   "language": "python",
   "name": "python3"
  },
  "language_info": {
   "codemirror_mode": {
    "name": "ipython",
    "version": 3
   },
   "file_extension": ".py",
   "mimetype": "text/x-python",
   "name": "python",
   "nbconvert_exporter": "python",
   "pygments_lexer": "ipython3",
   "version": "3.7.0"
  }
 },
 "nbformat": 4,
 "nbformat_minor": 2
}
