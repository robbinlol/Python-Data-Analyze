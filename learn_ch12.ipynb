{
 "cells": [
  {
   "cell_type": "code",
   "execution_count": 4,
   "metadata": {},
   "outputs": [],
   "source": [
    "import numpy as np"
   ]
  },
  {
   "cell_type": "code",
   "execution_count": 11,
   "metadata": {},
   "outputs": [
    {
     "data": {
      "text/plain": [
       "[numpy.float64,\n",
       " numpy.floating,\n",
       " numpy.inexact,\n",
       " numpy.number,\n",
       " numpy.generic,\n",
       " float,\n",
       " object]"
      ]
     },
     "execution_count": 11,
     "metadata": {},
     "output_type": "execute_result"
    }
   ],
   "source": [
    "ints = np.ones(10, dtype = np.uint16)\n",
    "floats = np.ones(10, dtype = np.float32)\n",
    "np.issubdtype(ints.dtype, np.integer)\n",
    "np.issubdtype(floats.dtype, np.floating)\n",
    "np.float64.mro()"
   ]
  },
  {
   "cell_type": "code",
   "execution_count": 39,
   "metadata": {},
   "outputs": [
    {
     "data": {
      "text/plain": [
       "array([ 0,  1,  2,  3,  4,  5,  6,  7,  8,  9, 10, 11, 12, 13, 14])"
      ]
     },
     "execution_count": 39,
     "metadata": {},
     "output_type": "execute_result"
    }
   ],
   "source": [
    "arr = np.arange(8)\n",
    "arr\n",
    "arr.reshape((4, 2)).reshape((2, 4))\n",
    "arr.reshape((2, 2, -1))\n",
    "#   参数可以有一个为-1，相当于自动推断\n",
    "arr = np.arange(15).reshape((5, 3))\n",
    "arr\n",
    "t1 = arr.ravel()\n",
    "t2 = arr.flatten()\n",
    "t2[2] = 99\n",
    "arr\n",
    "t1"
   ]
  },
  {
   "cell_type": "code",
   "execution_count": 45,
   "metadata": {},
   "outputs": [
    {
     "data": {
      "text/plain": [
       "array([ 0,  4,  8,  1,  5,  9,  2,  6, 10,  3,  7, 11])"
      ]
     },
     "execution_count": 45,
     "metadata": {},
     "output_type": "execute_result"
    }
   ],
   "source": [
    "arr = np.arange(12).reshape((3, 4))\n",
    "arr\n",
    "arr.ravel()\n",
    "arr.ravel('F')"
   ]
  },
  {
   "cell_type": "code",
   "execution_count": 60,
   "metadata": {},
   "outputs": [
    {
     "data": {
      "text/plain": [
       "array([[  1, -10],\n",
       "       [  2,  -9],\n",
       "       [  3,  -8],\n",
       "       [  4,  -7],\n",
       "       [  5,  -6]])"
      ]
     },
     "execution_count": 60,
     "metadata": {},
     "output_type": "execute_result"
    }
   ],
   "source": [
    "arr1 = np.array([[1, 2, 3], [4, 5, 6]])\n",
    "arr2 = np.array([[7, 8, 9], [10, 11, 12]])\n",
    "np.concatenate([arr1, arr2], axis = 1)\n",
    "#   vstack => axis = 0, hstack => axis = 1\n",
    "from numpy.random import randn\n",
    "arr = randn(5, 2)\n",
    "arr\n",
    "first, second, third = np.split(arr, [1, 3])#   list的参数是左闭右开\n",
    "arr = np.arange(6)\n",
    "arr1 = arr.reshape((3, 2))\n",
    "arr2 = randn(3, 2)\n",
    "np.r_[arr1, arr2]\n",
    "np.c_[np.r_[arr1, arr2], arr]\n",
    "np.c_[1: 6, -10: -5]"
   ]
  },
  {
   "cell_type": "code",
   "execution_count": 72,
   "metadata": {},
   "outputs": [
    {
     "data": {
      "text/plain": [
       "array([[ 0.465868  , -1.46977035,  0.465868  , -1.46977035,  0.465868  ,\n",
       "        -1.46977035,  0.465868  , -1.46977035],\n",
       "       [ 0.20008968, -0.15160603,  0.20008968, -0.15160603,  0.20008968,\n",
       "        -0.15160603,  0.20008968, -0.15160603],\n",
       "       [ 0.465868  , -1.46977035,  0.465868  , -1.46977035,  0.465868  ,\n",
       "        -1.46977035,  0.465868  , -1.46977035],\n",
       "       [ 0.20008968, -0.15160603,  0.20008968, -0.15160603,  0.20008968,\n",
       "        -0.15160603,  0.20008968, -0.15160603],\n",
       "       [ 0.465868  , -1.46977035,  0.465868  , -1.46977035,  0.465868  ,\n",
       "        -1.46977035,  0.465868  , -1.46977035],\n",
       "       [ 0.20008968, -0.15160603,  0.20008968, -0.15160603,  0.20008968,\n",
       "        -0.15160603,  0.20008968, -0.15160603],\n",
       "       [ 0.465868  , -1.46977035,  0.465868  , -1.46977035,  0.465868  ,\n",
       "        -1.46977035,  0.465868  , -1.46977035],\n",
       "       [ 0.20008968, -0.15160603,  0.20008968, -0.15160603,  0.20008968,\n",
       "        -0.15160603,  0.20008968, -0.15160603]])"
      ]
     },
     "execution_count": 72,
     "metadata": {},
     "output_type": "execute_result"
    }
   ],
   "source": [
    "arr = np.arange(3)\n",
    "arr.repeat(3)\n",
    "arr.repeat([2, 3, 4])\n",
    "arr = randn(2, 2)\n",
    "arr.repeat(2)#   没有设置轴向，数组将会扁平化\n",
    "arr.repeat([2, 3], axis = 0)\n",
    "arr\n",
    "np.tile(arr, 2)#   水平方向\n",
    "np.tile(arr, (4, 4))#   tuple说明了瓷砖的形状，每一块砖都是一个arr"
   ]
  },
  {
   "cell_type": "code",
   "execution_count": 87,
   "metadata": {},
   "outputs": [
    {
     "data": {
      "text/plain": [
       "array([[ 9.90000000e+01,  9.90000000e+01,  9.90000000e+01,\n",
       "        -6.77020591e-02],\n",
       "       [ 1.67087848e-01,  4.25752564e-01,  3.55874648e-01,\n",
       "         8.49233920e-01]])"
      ]
     },
     "execution_count": 87,
     "metadata": {},
     "output_type": "execute_result"
    }
   ],
   "source": [
    "arr = np.arange(10) * 100\n",
    "arr\n",
    "inds = [7, 1, 2, 6]\n",
    "arr[inds]\n",
    "arr.take(inds)\n",
    "arr.put(inds, 99)\n",
    "arr\n",
    "arr.put(inds, [40, 41, 42, 43])\n",
    "arr\n",
    "inds = [2, 0, 2, 1]\n",
    "arr = randn(2, 4)\n",
    "arr\n",
    "arr.take(inds, axis  = 1)\n",
    "arr.put(inds, 99)#   只考虑行优先，没有轴的区别\n",
    "arr"
   ]
  },
  {
   "cell_type": "code",
   "execution_count": 101,
   "metadata": {},
   "outputs": [],
   "source": [
    "#   广播指的是不同的数组之间的算术运算的执行方式\n",
    "arr = np.arange(5)\n",
    "arr * 4\n",
    "arr = randn(4, 3)\n",
    "arr.mean(0)\n",
    "demeand = arr - arr.mean(0)\n",
    "demeand.mean(0)\n",
    "arr\n",
    "row_means = arr.mean(1)\n",
    "row_means.reshape((4, 1))\n",
    "demeaned = arr - row_means.reshape((4, 1))"
   ]
  },
  {
   "cell_type": "code",
   "execution_count": 123,
   "metadata": {},
   "outputs": [
    {
     "data": {
      "text/plain": [
       "array([[[ 2.],\n",
       "        [ 7.],\n",
       "        [12.],\n",
       "        [17.]],\n",
       "\n",
       "       [[22.],\n",
       "        [27.],\n",
       "        [32.],\n",
       "        [37.]],\n",
       "\n",
       "       [[42.],\n",
       "        [47.],\n",
       "        [52.],\n",
       "        [57.]]])"
      ]
     },
     "execution_count": 123,
     "metadata": {},
     "output_type": "execute_result"
    }
   ],
   "source": [
    "arr = np.zeros((4, 4))\n",
    "arr_3d = arr[:, np.newaxis, :]\n",
    "arr_3d.shape\n",
    "arr_1d = np.random.normal(size = 3)\n",
    "arr_1d[:, np.newaxis].shape\n",
    "arr_1d[np.newaxis, :]\n",
    "arr = np.arange(60).reshape((3, 4, 5))\n",
    "depth_means = arr.mean(2)\n",
    "depth_means[:, :, np.newaxis]"
   ]
  },
  {
   "cell_type": "code",
   "execution_count": 135,
   "metadata": {},
   "outputs": [
    {
     "data": {
      "text/plain": [
       "array([[-1.37 , -1.37 , -1.37 ],\n",
       "       [ 0.509,  0.509,  0.509],\n",
       "       [ 0.44 ,  0.44 ,  0.44 ],\n",
       "       [ 1.6  ,  1.6  ,  1.6  ]])"
      ]
     },
     "execution_count": 135,
     "metadata": {},
     "output_type": "execute_result"
    }
   ],
   "source": [
    "arr = np.zeros((4, 3))\n",
    "arr[:] = 5\n",
    "arr\n",
    "col = np.array([1.28, -0.42, 0.44, 1.6])\n",
    "arr[:] = col[:, np.newaxis]\n",
    "arr\n",
    "arr[: 2] = [[-1.37], [0.509]]\n",
    "arr"
   ]
  },
  {
   "cell_type": "code",
   "execution_count": 146,
   "metadata": {},
   "outputs": [
    {
     "data": {
      "text/plain": [
       "array([10, 35, 60])"
      ]
     },
     "execution_count": 146,
     "metadata": {},
     "output_type": "execute_result"
    }
   ],
   "source": [
    "arr = np.arange(10)\n",
    "np.add.reduce(arr)\n",
    "arr.sum()\n",
    "arr = randn(5, 5)\n",
    "arr[::2].sort(1)\n",
    "arr[:, :-1] < arr[:, 1:]\n",
    "np.logical_and.reduce(arr[:, :-1] < arr[:, 1:], axis = 1)\n",
    "arr = np.arange(15).reshape((3, 5))\n",
    "np.add.accumulate(arr, axis = 1)#   部分和\n",
    "np.add.reduce(arr, axis = 1)#   每一行加起来的最终和"
   ]
  },
  {
   "cell_type": "code",
   "execution_count": 153,
   "metadata": {},
   "outputs": [
    {
     "data": {
      "text/plain": [
       "(6, 5)"
      ]
     },
     "execution_count": 153,
     "metadata": {},
     "output_type": "execute_result"
    }
   ],
   "source": [
    "arr = np.arange(3).repeat([1, 2, 3])\n",
    "arr\n",
    "np.multiply.outer(arr, np.arange(5))\n",
    "result = np.subtract.outer(randn(3, 4), randn(5))\n",
    "result.shape\n",
    "np.multiply.outer(arr, np.arange(5)).shape"
   ]
  },
  {
   "cell_type": "code",
   "execution_count": 158,
   "metadata": {},
   "outputs": [
    {
     "data": {
      "text/plain": [
       "array([[ 0,  0,  0],\n",
       "       [ 1,  5,  4],\n",
       "       [ 2, 10,  8],\n",
       "       [ 3, 15, 12]])"
      ]
     },
     "execution_count": 158,
     "metadata": {},
     "output_type": "execute_result"
    }
   ],
   "source": [
    "arr = np.arange(10)\n",
    "np.add.reduceat(arr, [0, 5, 8])\n",
    "#   [0: 5], [5: 8], [8: ]\n",
    "arr = np.multiply.outer(np.arange(4), np.arange(5))\n",
    "arr\n",
    "np.add.reduceat(arr, [0, 2, 4], axis = 1)"
   ]
  },
  {
   "cell_type": "code",
   "execution_count": 173,
   "metadata": {},
   "outputs": [
    {
     "data": {
      "text/plain": [
       "numpy.ndarray"
      ]
     },
     "execution_count": 173,
     "metadata": {},
     "output_type": "execute_result"
    }
   ],
   "source": [
    "def add_elememt(x, y):\n",
    "    return x + y\n",
    "add_them = np.frompyfunc(add_elememt, 2, 1)\n",
    "t1 = add_them(np.arange(8), np.arange(8))\n",
    "add_them = np.vectorize(add_elememt, otypes = [np.float64])\n",
    "t2 = add_them(np.arange(8), np.arange(8))\n",
    "t1\n",
    "t2\n",
    "type(t1)\n",
    "type(t2)"
   ]
  },
  {
   "cell_type": "code",
   "execution_count": 178,
   "metadata": {},
   "outputs": [
    {
     "data": {
      "text/plain": [
       "array([(1.5       ,  6), (3.14159265, -2)],\n",
       "      dtype=[('x', '<f8'), ('y', '<i4')])"
      ]
     },
     "execution_count": 178,
     "metadata": {},
     "output_type": "execute_result"
    }
   ],
   "source": [
    "dtype = [('x', np.float64), ('y', np.int32)]#   X字段和Y字段\n",
    "sarr = np.array([(1.5, 6), (np.pi, -2)], dtype = dtype)\n",
    "sarr"
   ]
  },
  {
   "cell_type": "code",
   "execution_count": 188,
   "metadata": {},
   "outputs": [
    {
     "data": {
      "text/plain": [
       "array([[0, 0, 0],\n",
       "       [0, 0, 0],\n",
       "       [0, 0, 0],\n",
       "       [0, 0, 0]])"
      ]
     },
     "execution_count": 188,
     "metadata": {},
     "output_type": "execute_result"
    }
   ],
   "source": [
    "dtype = [('x', np.int64, 3), ('y', np.int32)]\n",
    "arr = np.zeros(4, dtype = dtype)\n",
    "arr[0]\n",
    "arr[1]\n",
    "arr[2]\n",
    "arr[3]\n",
    "arr['x']"
   ]
  },
  {
   "cell_type": "code",
   "execution_count": 195,
   "metadata": {},
   "outputs": [
    {
     "data": {
      "text/plain": [
       "array([1., 3.])"
      ]
     },
     "execution_count": 195,
     "metadata": {},
     "output_type": "execute_result"
    }
   ],
   "source": [
    "dtype = [('x', [('a', 'f8'), ('b', 'f4')]), ('y', np.int32)]\n",
    "data  = np.array([((1, 2), 5), ((3, 4), 6)], dtype = dtype)\n",
    "data['x']\n",
    "data['y']\n",
    "data['x']['a']"
   ]
  },
  {
   "cell_type": "code",
   "execution_count": 200,
   "metadata": {},
   "outputs": [
    {
     "data": {
      "text/plain": [
       "array([ 0,  1, 99, 99, 99,  5,  6,  7,  8,  9])"
      ]
     },
     "execution_count": 200,
     "metadata": {},
     "output_type": "execute_result"
    }
   ],
   "source": [
    "arr = np.arange(10)\n",
    "arr[2: 5] = 99\n",
    "arr"
   ]
  },
  {
   "cell_type": "code",
   "execution_count": 208,
   "metadata": {},
   "outputs": [
    {
     "data": {
      "text/plain": [
       "<zip at 0x7f90cc4e1f88>"
      ]
     },
     "execution_count": 208,
     "metadata": {},
     "output_type": "execute_result"
    }
   ],
   "source": [
    "first_name = np.array(['Bob', 'Jane', 'Steve', 'Bill', 'Barbara'])\n",
    "last_name = np.array(['Jones', 'Arnold', 'Arnold', 'Jones', 'Walters'])\n",
    "sorter = np.lexsort((first_name, last_name))\n",
    "sorter\n",
    "zip(last_name[sorter], first_name[sorter])"
   ]
  },
  {
   "cell_type": "code",
   "execution_count": 214,
   "metadata": {},
   "outputs": [
    {
     "data": {
      "text/plain": [
       "array(['1:first', '1:second', '1:third', '2:first', '2:second'],\n",
       "      dtype='<U8')"
      ]
     },
     "execution_count": 214,
     "metadata": {},
     "output_type": "execute_result"
    }
   ],
   "source": [
    "values = np.array(['2:first', '2:second', '1:first', '1:second', '1:third'])\n",
    "key = np.array([2, 2, 1, 1, 1])\n",
    "indexer = key.argsort(kind = 'mergesort')\n",
    "indexer\n",
    "values.take(indexer)"
   ]
  },
  {
   "cell_type": "code",
   "execution_count": 224,
   "metadata": {},
   "outputs": [
    {
     "data": {
      "text/plain": [
       "array([4, 4, 4, 4, 2, 4, 3, 4, 4, 2, 4, 3, 3, 2, 3, 4, 4, 3, 4, 4, 3, 3,\n",
       "       3, 4, 3, 2, 3, 2, 4, 3, 3, 4, 4, 3, 2, 3, 3, 3, 3, 4, 3, 3, 3, 4,\n",
       "       3, 3, 4, 4, 2, 3])"
      ]
     },
     "execution_count": 224,
     "metadata": {},
     "output_type": "execute_result"
    }
   ],
   "source": [
    "data = np.floor(np.random.uniform(0, 10000, size = 50))\n",
    "bins = np.array([0, 100, 1000, 5000, 10000])\n",
    "data\n",
    "labels = bins.searchsorted(data)\n",
    "labels\n",
    "from pandas import Series\n",
    "Series(data).groupby(labels).mean()\n",
    "np.digitize(data, bins)"
   ]
  },
  {
   "cell_type": "code",
   "execution_count": 225,
   "metadata": {},
   "outputs": [],
   "source": [
    "#   切片可产生二维结果"
   ]
  }
 ],
 "metadata": {
  "kernelspec": {
   "display_name": "Python 3",
   "language": "python",
   "name": "python3"
  },
  "language_info": {
   "codemirror_mode": {
    "name": "ipython",
    "version": 3
   },
   "file_extension": ".py",
   "mimetype": "text/x-python",
   "name": "python",
   "nbconvert_exporter": "python",
   "pygments_lexer": "ipython3",
   "version": "3.7.0"
  }
 },
 "nbformat": 4,
 "nbformat_minor": 2
}
